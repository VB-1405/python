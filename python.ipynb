{
  "nbformat": 4,
  "nbformat_minor": 0,
  "metadata": {
    "colab": {
      "name": "python.ipynb",
      "provenance": [],
      "collapsed_sections": [],
      "authorship_tag": "ABX9TyPw/9AJqcku99xT3YjRCS5h",
      "include_colab_link": true
    },
    "kernelspec": {
      "name": "python3",
      "display_name": "Python 3"
    },
    "language_info": {
      "name": "python"
    }
  },
  "cells": [
    {
      "cell_type": "markdown",
      "metadata": {
        "id": "view-in-github",
        "colab_type": "text"
      },
      "source": [
        "<a href=\"https://colab.research.google.com/github/reboot13-git/python/blob/main/python.ipynb\" target=\"_parent\"><img src=\"https://colab.research.google.com/assets/colab-badge.svg\" alt=\"Open In Colab\"/></a>"
      ]
    },
    {
      "cell_type": "code",
      "metadata": {
        "id": "qiMYtXzaxTcw"
      },
      "source": [
        "Name:\n",
        "En no.:\n",
        "Batch:\n",
        "Faculty:\n"
      ],
      "execution_count": null,
      "outputs": []
    },
    {
      "cell_type": "code",
      "metadata": {
        "id": "Ytp47KUcxZfR"
      },
      "source": [
        "AIM: What is python?\n",
        "Python is a popular object oriented high level programming language. It was\n",
        "created by Guido van Rossum, and released in 1991. It is used for following\n",
        "purposes:\n",
        "web development (server-side).\n",
        "software development.\n",
        "system scripting."
      ],
      "execution_count": null,
      "outputs": []
    },
    {
      "cell_type": "code",
      "metadata": {
        "id": "z3ahYkzpxgbh"
      },
      "source": [
        "Python keywords:\n",
        "Keywords are the reserved words in Python. We cannot use a keyword as a\n",
        "variable name, function name or any other identifier. They are used to define\n",
        "the syntax and structure of the Python language.\n",
        "In Python, keywords are case sensitive. There are 33 keywords in Python.\n",
        "All the keywords except True, False and None are in lowercase and they must be\n",
        "written as they are.\n"
      ],
      "execution_count": null,
      "outputs": []
    },
    {
      "cell_type": "code",
      "metadata": {
        "id": "fZGqbVz0xijp"
      },
      "source": [
        "Python comments:\n",
        "In Python, we use the hash (#) symbol to start writing a comment.\n",
        "It extends up to the newline character. Comments are for programmers to better\n",
        "understand a program. Python Interpreter ignores comments."
      ],
      "execution_count": null,
      "outputs": []
    },
    {
      "cell_type": "code",
      "metadata": {
        "id": "BQBuywxBxkzw"
      },
      "source": [
        "Condition statements in python:\n",
        " \n",
        "In programming languages, most of the time in large projects we have to control the flow of execution of\n",
        "our program and we want to execute some set of statements only if the given condition is satisfied,\n",
        "and a different set of statements when it’s not satisfied."
      ],
      "execution_count": null,
      "outputs": []
    },
    {
      "cell_type": "code",
      "metadata": {
        "id": "eE8xnwBcxuox"
      },
      "source": [
        "\"\"\"If statements:\n",
        "Syntax:\n",
        "If ( condition ):\n",
        " Block of code\n",
        "else:\n",
        " Block of code\n",
        "\"\"\"\n",
        "num = 5\n",
        "if (num < 10):\n",
        " print(\"Num is smaller than 10\")"
      ],
      "execution_count": null,
      "outputs": []
    },
    {
      "cell_type": "code",
      "metadata": {
        "id": "TGpPFRXAxvyf"
      },
      "source": [
        "num = 5\n",
        "if (num < 10):\n",
        " print(\"Num is smaller than 10\")\n",
        "print(\"This statement will always be executed\")"
      ],
      "execution_count": null,
      "outputs": []
    },
    {
      "cell_type": "code",
      "metadata": {
        "id": "g_ecgJzrx7og"
      },
      "source": [
        "a = 7\n",
        "b = 19\n",
        "if (b > a):\n",
        " print(\"b is greater than a\")"
      ],
      "execution_count": null,
      "outputs": []
    },
    {
      "cell_type": "code",
      "metadata": {
        "id": "Sp8C4KCIx-5L"
      },
      "source": [
        "#if-else statements:\n",
        "a = 19\n",
        "b = 7\n",
        "if (b > a):\n",
        " print(\"b is greater than a\")\n",
        "else:\n",
        " print(\"a is greater than b\")"
      ],
      "execution_count": null,
      "outputs": []
    },
    {
      "cell_type": "code",
      "metadata": {
        "id": "CUFjoNdkyGtd"
      },
      "source": [
        "#if-else statements:\n",
        "a = 19\n",
        "b = 7\n",
        "if (b > a):\n",
        " print(\"b is greater than a\")\n",
        "else:\n",
        " print(\"a is greater than b\")"
      ],
      "execution_count": null,
      "outputs": []
    },
    {
      "cell_type": "code",
      "metadata": {
        "id": "iE4SAHOgyINz"
      },
      "source": [
        "num = -7\n",
        "if (num > 0):\n",
        " print(\"Number is positive\")\n",
        "elif (num < 0):\n",
        " print(\"Number is negative\")\n",
        "else:\n",
        " print(\"Number is Zero\")"
      ],
      "execution_count": null,
      "outputs": []
    },
    {
      "cell_type": "code",
      "metadata": {
        "id": "N4I-w_G5yKAM"
      },
      "source": [
        "num=int(input(\"enter a number:\"))\n",
        "if(num%2==0):\n",
        " print(\"number is Even\")\n",
        "else:\n",
        " print(\"number is Odd\")"
      ],
      "execution_count": null,
      "outputs": []
    },
    {
      "cell_type": "code",
      "metadata": {
        "id": "RW7hzVC7yRGB"
      },
      "source": [
        "num=int(input(\"enter a number:\"))\n",
        "if(num%2==0):\n",
        " print(\"number is Even\")\n",
        "else:\n",
        " print(\"number is Odd\")"
      ],
      "execution_count": null,
      "outputs": []
    },
    {
      "cell_type": "code",
      "metadata": {
        "id": "DLdyPcJByTVg"
      },
      "source": [
        "#LOOPS:\n",
        " \n",
        "1. for loop\n",
        "2. while loop"
      ],
      "execution_count": null,
      "outputs": []
    },
    {
      "cell_type": "code",
      "metadata": {
        "id": "bmum8AV_yVma"
      },
      "source": [
        "# for loop:\n",
        "n = [2, 3, 5, 7]\n",
        "for i in n:\n",
        " print(i)"
      ],
      "execution_count": null,
      "outputs": []
    },
    {
      "cell_type": "code",
      "metadata": {
        "id": "krZon7YEyXuu"
      },
      "source": [
        "#For loops can iterate over a sequence of numbers using the \"range\" and \"xrange\" functions.\n",
        "for x in range(5):\n",
        " print(x)"
      ],
      "execution_count": null,
      "outputs": []
    },
    {
      "cell_type": "code",
      "metadata": {
        "id": "D2FoUZ5Uya8y"
      },
      "source": [
        "for x in range(3, 6):\n",
        " print(x)"
      ],
      "execution_count": null,
      "outputs": []
    },
    {
      "cell_type": "code",
      "metadata": {
        "id": "GXnuKhrEybdz"
      },
      "source": [
        "for x in range(3, 8, 2):\n",
        " print(x)"
      ],
      "execution_count": null,
      "outputs": []
    },
    {
      "cell_type": "code",
      "metadata": {
        "id": "KyRK3VpSyeIu"
      },
      "source": [
        "#while loop:\n",
        "#SYNTAX:\n",
        "#while test_expression:\n",
        " #statement(s)\n",
        "count = 0\n",
        "while (count < 5): \n",
        " count = count+1\n",
        " print(\"Hello World\")"
      ],
      "execution_count": null,
      "outputs": []
    },
    {
      "cell_type": "code",
      "metadata": {
        "id": "fHFr8mOqyh2T"
      },
      "source": [
        "#BREAK STATEMENT:\n",
        "#SYNTAX: break\n",
        "\"\"\"break statement inside any loop gives you way to break or terminate the execution of loop containing it,\n",
        "and transfers the execution to the next statement following the loop.\"\"\"\n",
        "count = 0\n",
        "while count < 10:\n",
        " count += 1\n",
        " if count == 5:\n",
        " break \n",
        " print(\"inside loop\", count)\n",
        "print(\"out of while loop\")"
      ],
      "execution_count": null,
      "outputs": []
    },
    {
      "cell_type": "code",
      "metadata": {
        "id": "MANP89EXylf-"
      },
      "source": [
        "#Continue statement:\n",
        "#syntax: continue\n",
        "\"\"\"\n",
        "The continue statement gives you way to skip over the current iteration of any loop.\n",
        "When a continue statement is encountered in the loop, the python interpreter ignores rest of statements\n",
        "in the loop body for current iteration and returns the program execution to the very first statement in th loop\n",
        "It does not terminates the loop rather continues with the next iteration.\n",
        "\"\"\"\n",
        "for x in range(10):\n",
        " # Check if x is even\n",
        " if x % 2 == 0:\n",
        " continue\n",
        " print(x)"
      ],
      "execution_count": null,
      "outputs": []
    },
    {
      "cell_type": "code",
      "metadata": {
        "id": "s9tAy2NfyncR"
      },
      "source": [
        "#pass statement:\n",
        "#syntax: pass\n",
        "\"\"\"\n",
        "The pass statement is much like a comment, but the python interpreter executes the pass statements like a valid\n",
        "while it ignores the comment statement completely. It is generally used to indicate “null” or unimplemented fun\n",
        "\"\"\"\n",
        "numbers = [ 1, 2, 4, 3, 6, 5, 7, 10, 9 ]\n",
        "#loop through the numbers\n",
        "for number in numbers:\n",
        " #check if the number is even\n",
        "if number % 2 == 0:\n",
        " #if even, then pass ( No operation )\n",
        " pass\n",
        "else:\n",
        " #print the odd numbers\n",
        " print('Current number is:',number)\n"
      ],
      "execution_count": null,
      "outputs": []
    },
    {
      "cell_type": "code",
      "metadata": {
        "id": "Efj4f_GjyqA4"
      },
      "source": [
        "Function:\n",
        "Types of function\n",
        "1. Builtin function(pre defined function)\n",
        "2. User defined function\n",
        "# Syntax\n",
        "'''\n",
        "def name_function(parameter/arguments):\n",
        "\"\"\" Document String\"\"\"\n",
        "//block of code\n",
        "return value\n",
        "'''"
      ],
      "execution_count": null,
      "outputs": []
    },
    {
      "cell_type": "code",
      "metadata": {
        "id": "2zqL5J-myq2h"
      },
      "source": [
        "def wish():\n",
        " print(\"Good Afternoon\")\n",
        "wish()"
      ],
      "execution_count": null,
      "outputs": []
    },
    {
      "cell_type": "code",
      "metadata": {
        "id": "y6qljjRQysx8"
      },
      "source": [
        "def add(a,b):\n",
        " return a+b\n",
        "print(\"Addition of 19 and 7 = \",add(19,7))"
      ],
      "execution_count": null,
      "outputs": []
    },
    {
      "cell_type": "code",
      "metadata": {
        "id": "2zeQbq4dyyqn"
      },
      "source": [
        "def calc(a,b):\n",
        " add = a+b\n",
        " sub = a-b\n",
        " mul = a*b\n",
        " div = a/b\n",
        " return add,sub,mul,div\n",
        "calc(5,10)"
      ],
      "execution_count": null,
      "outputs": []
    },
    {
      "cell_type": "code",
      "metadata": {
        "id": "vTW1Lndoy1ae"
      },
      "source": [
        "\n",
        "num=int(input(\"enter a number:\"))\n",
        "def even_or_odd(num):\n",
        " if(num%2==0):\n",
        " print(\"num is even.\")\n",
        " else:\n",
        " print(\"num is odd.\")\n",
        " \n",
        "even_or_odd(num)"
      ],
      "execution_count": null,
      "outputs": []
    },
    {
      "cell_type": "code",
      "metadata": {
        "id": "kak0hbKqy3Sj"
      },
      "source": [
        "n=int(input(\"enter a number\"))\n",
        "def prime(n):\n",
        " flag = 1\n",
        " for i in range(2,n):\n",
        " if n%i == 0:\n",
        " flag = 0\n",
        " break\n",
        " if flag == 1:\n",
        " print(n,\"is prime number\")\n",
        " else:\n",
        " print(n,\"is not prime number\")\n",
        "prime(n)"
      ],
      "execution_count": null,
      "outputs": []
    },
    {
      "cell_type": "code",
      "metadata": {
        "id": "05Ss2su8y5bn"
      },
      "source": [
        "#lambda function:\n",
        "\"\"\"A lambda function is a small anonymous function.\n",
        "A lambda function can take any number of arguments, but can only have one expression.\n",
        "\"\"\"\n",
        "#lambda arguments : expression\n",
        "x = lambda a : a + 10\n",
        "print(x(5))\n"
      ],
      "execution_count": null,
      "outputs": []
    },
    {
      "cell_type": "code",
      "metadata": {
        "id": "cFknTpXdy7Sq"
      },
      "source": [
        "def myfunc(n):\n",
        " return lambda a : a * n\n",
        "mydoubler = myfunc(2)\n",
        "print(mydoubler(11))"
      ],
      "execution_count": null,
      "outputs": []
    },
    {
      "cell_type": "code",
      "metadata": {
        "id": "n3ZscYJZy9dd"
      },
      "source": [
        "LIST:(mutable)[]\n",
        "The list is one of the most widely used data types in Python.\n",
        "A Python List can be easily identified by square brackets [ ].\n",
        "Lists are used to store the data items where each data item is separated by a comma (,).\n",
        "list declaration\n",
        "a=[] #empty list\n",
        "a = ['Hello', 1, 4.63, True, \"World\", 2.0, \"False\"]"
      ],
      "execution_count": null,
      "outputs": []
    },
    {
      "cell_type": "code",
      "metadata": {
        "id": "D-9a2kkvy_aB"
      },
      "source": [
        "a = ['Hello', 1, 4.63, True, \"World\", 2.0, \"False\"]\n",
        "print(a)"
      ],
      "execution_count": null,
      "outputs": []
    },
    {
      "cell_type": "code",
      "metadata": {
        "id": "PPe3Pht-zBDE"
      },
      "source": [
        "#Based on indices of elements, we can also perform Slicing on Lists.\n",
        "a = ['Hello', 1, 4.63, True, \"World\", 2.0, \"False\"]\n",
        "print(a[0])\n",
        "a[2]\n",
        "a[1:]"
      ],
      "execution_count": null,
      "outputs": []
    },
    {
      "cell_type": "code",
      "metadata": {
        "id": "dP_bG6YazCvr"
      },
      "source": [
        "a[2:5]"
      ],
      "execution_count": null,
      "outputs": []
    },
    {
      "cell_type": "code",
      "metadata": {
        "id": "RLnVDtnQzGrW"
      },
      "source": [
        "a[-1:]"
      ],
      "execution_count": null,
      "outputs": []
    },
    {
      "cell_type": "code",
      "metadata": {
        "id": "Ni4OUQPAzIsU"
      },
      "source": [
        "#program to find even numbers in the given list\n",
        "list= [2, 3, 7, 5, 10, 17, 12, 4, 1, 13]\n",
        "for i in list:\n",
        " if i % 2 == 0:\n",
        " print(i)\n"
      ],
      "execution_count": null,
      "outputs": []
    },
    {
      "cell_type": "code",
      "metadata": {
        "id": "Lwy3nwbQzKfB"
      },
      "source": [
        "TUPLE:()\n",
        "Python tuples are a data structure that store an ordered sequence of values.\n",
        "Tuples are immutable. This means you cannot change the values in a tuple.\n",
        "Tuples are defined with parenthesis().\n",
        "t=() # empty tuple"
      ],
      "execution_count": null,
      "outputs": []
    },
    {
      "cell_type": "code",
      "metadata": {
        "id": "awvKWxBEzMEg"
      },
      "source": [
        "t=('python',7,19,'hello','world')\n",
        "print(t)"
      ],
      "execution_count": null,
      "outputs": []
    },
    {
      "cell_type": "code",
      "metadata": {
        "id": "mhaww6RPzOBK"
      },
      "source": [
        "t[2:]"
      ],
      "execution_count": null,
      "outputs": []
    },
    {
      "cell_type": "code",
      "metadata": {
        "id": "8SVO7YMczPwM"
      },
      "source": [
        "t[:]"
      ],
      "execution_count": null,
      "outputs": []
    },
    {
      "cell_type": "code",
      "metadata": {
        "id": "1Z13SnnJzU9e"
      },
      "source": [
        "DICTIONARY:{}\n",
        "Python dictionary is an unordered collection of items. Each item of a dictionary has a key/value pair.\n",
        "dictionary are defined with {}."
      ],
      "execution_count": null,
      "outputs": []
    },
    {
      "cell_type": "code",
      "metadata": {
        "id": "1EGIZScozYW-"
      },
      "source": [
        "my_dict1 = {} # empty dictionary\n",
        "my_dict2 = {1: 'apple', 2: 'ball'}\n",
        "my_dict3 = {'name': 'xyz', 1: [2, 4, 3]}\n",
        "print(my_dict2[1])\n",
        "print(my_dict3['name'])"
      ],
      "execution_count": null,
      "outputs": []
    },
    {
      "cell_type": "code",
      "metadata": {
        "id": "Ts3U4mtIzaXm"
      },
      "source": [
        "my_dict3['name']='xyz'\n",
        "print(my_dict3)"
      ],
      "execution_count": null,
      "outputs": []
    },
    {
      "cell_type": "code",
      "metadata": {
        "id": "0zvoXxDpzf--"
      },
      "source": [
        "print(my_dict3.pop(1))"
      ],
      "execution_count": null,
      "outputs": []
    },
    {
      "cell_type": "code",
      "metadata": {
        "id": "M26WH0Olzjwl"
      },
      "source": [
        "print(my_dict3.pop(1))"
      ],
      "execution_count": null,
      "outputs": []
    },
    {
      "cell_type": "code",
      "metadata": {
        "id": "2JkAw4I5zlYv"
      },
      "source": [
        "EXCEPTION HANDLING:\n",
        "Error in Python can be of two types i.e. Syntax errors and Exceptions.\n",
        "Errors are the problems in a program due to which the program will stop the execution.\n",
        "On the other hand, exceptions are raised when some internal events occur which changes the\n",
        "normal flow of the program.\n",
        "Exceptions are raised when the program is syntactically correct, but the code resulted in an error.\n",
        "# initialize the amount variable\n",
        "marks = 10000\n",
        "# perform division with 0\n",
        "a = marks / 0\n",
        "print(a) #compiler will throw an error"
      ],
      "execution_count": null,
      "outputs": []
    },
    {
      "cell_type": "code",
      "metadata": {
        "id": "rXK7aac3znlV"
      },
      "source": [
        "a = int(input(\"Enter a:\")) \n",
        "b = int(input(\"Enter b:\")) \n",
        "c = a/b \n",
        "print(\"a/b = %d\" %c) \n",
        " \n",
        "#other code: \n",
        "print(\"Hi I am other part of the program\")"
      ],
      "execution_count": null,
      "outputs": []
    },
    {
      "cell_type": "code",
      "metadata": {
        "id": "gZePIaBOztSB"
      },
      "source": [
        "# Python program to handle simple runtime error\n",
        "a = [1, 2, 3]\n",
        "try:\n",
        " print (\"Second element = %d\" %(a[1]))\n",
        " # Throws error since there are only 3 elements in array\n",
        " print (\"Fourth element = %d\" %(a[3]))\n",
        "except:\n",
        " print (\"An error occurred\")\n"
      ],
      "execution_count": null,
      "outputs": []
    },
    {
      "cell_type": "code",
      "metadata": {
        "id": "VwuaITVszxtW"
      },
      "source": [
        "try: \n",
        " #block of code \n",
        " \n",
        "except Exception1: \n",
        " #block of code \n",
        " \n",
        "except Exception2: \n",
        " #block of code \n",
        " \n",
        "#other code "
      ],
      "execution_count": null,
      "outputs": []
    },
    {
      "cell_type": "code",
      "metadata": {
        "id": "0gKXBphez0VO"
      },
      "source": [
        "\n",
        "DECORATORS:\n",
        "Decorators is a function which can take a function as arguments and its functionality\n",
        "and returns modified function with extended functionality.\n",
        "step1: define existing function.\n",
        "step2: define decorator function.\n",
        "step3: call the function for desired functionality.\n"
      ],
      "execution_count": null,
      "outputs": []
    },
    {
      "cell_type": "code",
      "metadata": {
        "id": "tVL4aCAkz6Jg"
      },
      "source": [
        "# defining a decorator\n",
        "def decor(func):\n",
        " # inner is a Wrapper function in \n",
        " # which the argument is called\n",
        " \n",
        " # inner function can access the outer local\n",
        " # functions like in this case \"func\"\n",
        " def inner(name):\n",
        " if name==\"Pankaj\":\n",
        " print(\"Hello pankaj bad morning\")\n",
        " else:\n",
        " func(name)\n",
        " return inner\n",
        "# defining a function, to be called inside wrapper\n",
        "def wish(name):\n",
        " print(\"Hello\",name,\"Good Morning\")\n",
        " \n",
        "wish(\"xyz\") \n",
        "wish(\"Hello World\")"
      ],
      "execution_count": null,
      "outputs": []
    },
    {
      "cell_type": "code",
      "metadata": {
        "id": "G7GfjUE_z-Uw"
      },
      "source": [
        "print(\"end\")"
      ],
      "execution_count": null,
      "outputs": []
    }
  ]
}