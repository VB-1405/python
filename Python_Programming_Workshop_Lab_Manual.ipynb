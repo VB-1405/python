{
  "nbformat": 4,
  "nbformat_minor": 0,
  "metadata": {
    "colab": {
      "name": "Python_Programming_Workshop_Lab_Manual.ipynb",
      "provenance": [],
      "collapsed_sections": [],
      "toc_visible": true,
      "include_colab_link": true
    },
    "kernelspec": {
      "name": "python3",
      "display_name": "Python 3"
    },
    "language_info": {
      "name": "python"
    }
  },
  "cells": [
    {
      "cell_type": "markdown",
      "metadata": {
        "id": "view-in-github",
        "colab_type": "text"
      },
      "source": [
        "<a href=\"https://colab.research.google.com/github/reboot13-git/python/blob/main/Python_Programming_Workshop_Lab_Manual.ipynb\" target=\"_parent\"><img src=\"https://colab.research.google.com/assets/colab-badge.svg\" alt=\"Open In Colab\"/></a>"
      ]
    },
    {
      "cell_type": "markdown",
      "metadata": {
        "id": "HjhWmwWQr0z4"
      },
      "source": [
        "## Python Programming Workshop - 1"
      ]
    },
    {
      "cell_type": "markdown",
      "metadata": {
        "id": "Wwse2BVPsmMy"
      },
      "source": [
        "# Practical-1"
      ]
    },
    {
      "cell_type": "markdown",
      "metadata": {
        "id": "yLmI6YMFuVmD"
      },
      "source": [
        "**AIM: What is Python?, Installation of the python environment (anaconda),.python keywords,comments, and indentation, Python data types, Math and numbers in python.**"
      ]
    },
    {
      "cell_type": "markdown",
      "metadata": {
        "id": "Z4s8ADitsnPr"
      },
      "source": [
        "# Practical-2"
      ]
    },
    {
      "cell_type": "markdown",
      "metadata": {
        "id": "UBmNKc0LvgAe"
      },
      "source": [
        "**AIM : CONTROL STATEMENTS (Include nested and at least 3 examples for 1, 2, 3)**\n",
        "\n",
        "1.   **if-else and if-elif-else**\n",
        "2.   **While-loops**\n",
        "3.   **For loops**\n",
        "4.   **Break, continue, pass, and return** \n"
      ]
    },
    {
      "cell_type": "code",
      "metadata": {
        "id": "MwTVdnBT3A34"
      },
      "source": [
        "#WAP A PROGRAM TO FIND THE LARGEST OF TWO GIVEN NUMBERS.\n",
        "num1 = int(input(\"Enter 1st number : \"))\n",
        "num2 = int(input(\"Enter 2nd number : \"))\n",
        "if(num1>num2):\n",
        "  print(num1,\"is Larger.\")\n",
        "else:\n",
        "   print(num2,\"is Larger.\")"
      ],
      "execution_count": null,
      "outputs": []
    },
    {
      "cell_type": "code",
      "metadata": {
        "id": "6hO6okcN92E9"
      },
      "source": [
        "#WAP A PROGRAM TO FIND OR CHECK WHETHER THE GIVEN NUMBER IS EVEN OR ODD.\n",
        "num1 = int(input(\"Enter 1st number : \"))\n",
        "if(num1%2==0):\n",
        "  print(num1,\"is even.\")\n",
        "else:\n",
        "  print(num1,\"is odd.\")"
      ],
      "execution_count": null,
      "outputs": []
    },
    {
      "cell_type": "code",
      "metadata": {
        "id": "hlN_FLmm_FZW"
      },
      "source": [
        "#"
      ],
      "execution_count": null,
      "outputs": []
    },
    {
      "cell_type": "markdown",
      "metadata": {
        "id": "7g67v4qis4Ma"
      },
      "source": [
        "# Practical-3"
      ]
    },
    {
      "cell_type": "markdown",
      "metadata": {
        "id": "88ZcPeFQyZHl"
      },
      "source": [
        "**AIM : Functions in python - Inbuilt functions in python, User-defined functions (with and without\n",
        "argument & with and without return type), Lambda faction in python.** \n"
      ]
    },
    {
      "cell_type": "markdown",
      "metadata": {
        "id": "321hcqiBsorK"
      },
      "source": [
        "# Prctical-4"
      ]
    },
    {
      "cell_type": "markdown",
      "metadata": {
        "id": "2xoznUS_zxnU"
      },
      "source": [
        "**AIM : List, Tuples, Dictionaries & Sets in python.**"
      ]
    },
    {
      "cell_type": "markdown",
      "metadata": {
        "id": "DOdVH4dltRfi"
      },
      "source": [
        "# Practical-5"
      ]
    },
    {
      "cell_type": "markdown",
      "metadata": {
        "id": "Ap6xLVOf0d3m"
      },
      "source": [
        "**AIM : Input and output in python - Inputs and outputs from the file, Operations on files, Modes\n",
        "and methods of files.**"
      ]
    },
    {
      "cell_type": "markdown",
      "metadata": {
        "id": "H_akXPzQta87"
      },
      "source": [
        "# Practical-6"
      ]
    },
    {
      "cell_type": "markdown",
      "metadata": {
        "id": "OGyaLNCY0kR-"
      },
      "source": [
        "**AIM : EXCEPTION HANDLING (compile time and run time) Try-except-finally Try-except-else.**"
      ]
    },
    {
      "cell_type": "markdown",
      "metadata": {
        "id": "QVxxuYPNtiIR"
      },
      "source": [
        "# Practical-7"
      ]
    },
    {
      "cell_type": "markdown",
      "metadata": {
        "id": "GaGtflsX0rd2"
      },
      "source": [
        "**AIM : Decorators in python.**"
      ]
    },
    {
      "cell_type": "markdown",
      "metadata": {
        "id": "94-wGoWltlyq"
      },
      "source": [
        "# Practical-8"
      ]
    },
    {
      "cell_type": "markdown",
      "metadata": {
        "id": "7zTTc1zO1NCe"
      },
      "source": [
        "**AIM : Regular expression (REGEX) in python.**"
      ]
    },
    {
      "cell_type": "markdown",
      "metadata": {
        "id": "EHguTR9ztpUS"
      },
      "source": [
        "# Practical-9"
      ]
    },
    {
      "cell_type": "markdown",
      "metadata": {
        "id": "V1FRqyPn1W_G"
      },
      "source": [
        "**AIM : DB-API in python - DML operations , DDL operations.**"
      ]
    },
    {
      "cell_type": "markdown",
      "metadata": {
        "id": "etSnTjyKts0q"
      },
      "source": [
        "# Practical-10"
      ]
    },
    {
      "cell_type": "markdown",
      "metadata": {
        "id": "hdR3k-8s1feV"
      },
      "source": [
        "**AIM : Object oriented programming in python Inheritance, Polymorphism, Encapsulation and data\n",
        "abstraction.**"
      ]
    }
  ]
}